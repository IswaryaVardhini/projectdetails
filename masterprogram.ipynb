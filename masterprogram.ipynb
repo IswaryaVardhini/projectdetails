{
 "cells": [
  {
   "cell_type": "code",
   "execution_count": null,
   "metadata": {},
   "outputs": [],
   "source": [
    "'''\n",
    "Created on Feb 21, 2019\n",
    "\n",
    "@author: Iswarya Vardhini\n",
    "'''\n",
    "import pandas as pd\n",
    "from distributed import Client, progress\n",
    "from hdfs import InsecureClient\n",
    "import os \n",
    "import projpk.seatbelt as seatbelt\n",
    "import projpk.gfintake as gfintake\n",
    "import projpk.immun as immun\n",
    "import projpk.advchild as advchild\n",
    "import projpk.disabil as disabil\n",
    "\n",
    "\n",
    "\n",
    "print (\"I am the master\")\n",
    "#class masdriv:\n",
    "df = pd.read_csv('C:/Users/rajendhar1987/Documents/FinalProjectdocs/projdata/data/2013data.csv') #Defining CSV file in Master program\n",
    "\n",
    "def main():\n",
    "    print (\"I am the master\")\n",
    "    #seatbelt.seatprocess()\n",
    "    #gfintake.gfprocess()\n",
    "    immun.immuprocess()\n",
    "    #disabil.disprocess()\n",
    "    \n",
    "def state():\n",
    "    print(\"I am in state details\")\n",
    "    \n",
    "if __name__ == '__main__':\n",
    "    main() #this calls the main function"
   ]
  }
 ],
 "metadata": {
  "kernelspec": {
   "display_name": "Python 3",
   "language": "python",
   "name": "python3"
  },
  "language_info": {
   "codemirror_mode": {
    "name": "ipython",
    "version": 3
   },
   "file_extension": ".py",
   "mimetype": "text/x-python",
   "name": "python",
   "nbconvert_exporter": "python",
   "pygments_lexer": "ipython3",
   "version": "3.7.4"
  }
 },
 "nbformat": 4,
 "nbformat_minor": 2
}
