{
 "cells": [
  {
   "cell_type": "code",
   "execution_count": null,
   "metadata": {},
   "outputs": [],
   "source": [
    "'''\n",
    "Created on Feb 8, 2019\n",
    "\n",
    "@author: iswarya vardhini\n",
    "'''\n",
    "\n",
    "#import matplotlib.pyplot as plt\n",
    "#import numpy as np\n",
    "import pandas as pd\n",
    "from distributed import Client, progress\n",
    "from hdfs import InsecureClient\n",
    "import os \n",
    "\n",
    "''''a = np.array([])\n",
    "plt.plot([1,2,3,4])\n",
    "plt.savefig(\"test.png\")\n",
    "plt.ylabel('numbers')\n",
    "plt.show()'''\n",
    "\n",
    "''''e = Client('192.168.1.95:50070')\n",
    "e'''\n",
    "\n",
    "'''data = pd.read_csv(\"hdfs://hadoopnamenode:9000/user/hadoop/output/pig/test/part-m-00001.csv\")\n",
    "print (data)'''\n",
    "\n",
    "client_hdfs = InsecureClient('http://hadoopnamenode:50070')\n",
    "with client_hdfs.read('/user/hadoop/output/pig/test/part-m-00000', encoding = 'utf-8') as reader:\n",
    "    df = pd.read_csv(reader,index_col=0)\n",
    "#print (df)\n",
    "\n",
    "#print (df.head(10))\n",
    "print (df['BLOODCHO'].head(5))\n"
   ]
  }
 ],
 "metadata": {
  "kernelspec": {
   "display_name": "Python 3",
   "language": "python",
   "name": "python3"
  },
  "language_info": {
   "codemirror_mode": {
    "name": "ipython",
    "version": 3
   },
   "file_extension": ".py",
   "mimetype": "text/x-python",
   "name": "python",
   "nbconvert_exporter": "python",
   "pygments_lexer": "ipython3",
   "version": "3.7.4"
  }
 },
 "nbformat": 4,
 "nbformat_minor": 2
}
